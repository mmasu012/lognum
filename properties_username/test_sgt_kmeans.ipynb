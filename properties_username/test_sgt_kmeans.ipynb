{
 "cells": [
  {
   "cell_type": "code",
   "execution_count": 85,
   "id": "e7653d1a",
   "metadata": {},
   "outputs": [],
   "source": [
    "import sgt\n",
    "import pandas as pd\n",
    "from sgt import SGT\n",
    "from sklearn.decomposition import PCA\n",
    "import numpy as np\n",
    "from sklearn.cluster import KMeans\n",
    "\n",
    "import matplotlib.pyplot as plt\n",
    "%matplotlib inline"
   ]
  },
  {
   "cell_type": "code",
   "execution_count": 86,
   "id": "9c7d3631",
   "metadata": {},
   "outputs": [],
   "source": [
    "# Loading data\n",
    "corpus = pd.read_csv('protein_classification.csv')"
   ]
  },
  {
   "cell_type": "code",
   "execution_count": 87,
   "id": "56d98280",
   "metadata": {},
   "outputs": [
    {
     "data": {
      "text/html": [
       "<div>\n",
       "<style scoped>\n",
       "    .dataframe tbody tr th:only-of-type {\n",
       "        vertical-align: middle;\n",
       "    }\n",
       "\n",
       "    .dataframe tbody tr th {\n",
       "        vertical-align: top;\n",
       "    }\n",
       "\n",
       "    .dataframe thead th {\n",
       "        text-align: right;\n",
       "    }\n",
       "</style>\n",
       "<table border=\"1\" class=\"dataframe\">\n",
       "  <thead>\n",
       "    <tr style=\"text-align: right;\">\n",
       "      <th></th>\n",
       "      <th>id</th>\n",
       "      <th>sequence</th>\n",
       "    </tr>\n",
       "  </thead>\n",
       "  <tbody>\n",
       "    <tr>\n",
       "      <th>0</th>\n",
       "      <td>1</td>\n",
       "      <td>[AA, BB, CC, DD]</td>\n",
       "    </tr>\n",
       "    <tr>\n",
       "      <th>1</th>\n",
       "      <td>2</td>\n",
       "      <td>[BB, CC, DD]</td>\n",
       "    </tr>\n",
       "    <tr>\n",
       "      <th>2</th>\n",
       "      <td>3</td>\n",
       "      <td>[AA, CC, DD]</td>\n",
       "    </tr>\n",
       "    <tr>\n",
       "      <th>3</th>\n",
       "      <td>4</td>\n",
       "      <td>[AA, BB, CC, DD]</td>\n",
       "    </tr>\n",
       "    <tr>\n",
       "      <th>4</th>\n",
       "      <td>5</td>\n",
       "      <td>[ZZ, TT, YY]</td>\n",
       "    </tr>\n",
       "  </tbody>\n",
       "</table>\n",
       "</div>"
      ],
      "text/plain": [
       "  id          sequence\n",
       "0  1  [AA, BB, CC, DD]\n",
       "1  2      [BB, CC, DD]\n",
       "2  3      [AA, CC, DD]\n",
       "3  4  [AA, BB, CC, DD]\n",
       "4  5      [ZZ, TT, YY]"
      ]
     },
     "execution_count": 87,
     "metadata": {},
     "output_type": "execute_result"
    }
   ],
   "source": [
    "details = {\n",
    "    'id' : ['1', '2', '3', '4', '5'],\n",
    "    \n",
    "#     'sequence' : ['ABCD', 'BCD', 'ACD', 'ABCD', 'ZTY'],\n",
    "    'sequence' : ['AA-BB-CC-DD', 'BB-CC-DD', 'AA-CC-DD', 'AA-BB-CC-DD', 'ZZ-TT-YY'],\n",
    "}\n",
    "  \n",
    "# creating a Dataframe object \n",
    "corpus = pd.DataFrame(details)\n",
    "\n",
    "# Data preprocessing\n",
    "# corpus = corpus.loc[:,['Entry','Sequence']]\n",
    "# corpus.columns = ['id', 'sequence']\n",
    "# corpus['sequence'] = corpus['sequence'].map(list)\n",
    "\n",
    "corpus['sequence'] = corpus['sequence'].apply(lambda x: x.split('-'))\n",
    "\n",
    "corpus"
   ]
  },
  {
   "cell_type": "code",
   "execution_count": 88,
   "id": "34789223",
   "metadata": {},
   "outputs": [
    {
     "name": "stdout",
     "output_type": "stream",
     "text": [
      "Requirement already satisfied: pandarallel in /Users/masud/opt/anaconda3/lib/python3.8/site-packages (1.6.0)\n",
      "Requirement already satisfied: pandas>=1 in /Users/masud/opt/anaconda3/lib/python3.8/site-packages (from pandarallel) (1.2.4)\n",
      "Requirement already satisfied: psutil in /Users/masud/opt/anaconda3/lib/python3.8/site-packages (from pandarallel) (5.8.0)\n",
      "Requirement already satisfied: dill>=0.3.1 in /Users/masud/opt/anaconda3/lib/python3.8/site-packages (from pandarallel) (0.3.4)\n",
      "Requirement already satisfied: python-dateutil>=2.7.3 in /Users/masud/opt/anaconda3/lib/python3.8/site-packages (from pandas>=1->pandarallel) (2.8.1)\n",
      "Requirement already satisfied: pytz>=2017.3 in /Users/masud/opt/anaconda3/lib/python3.8/site-packages (from pandas>=1->pandarallel) (2021.1)\n",
      "Requirement already satisfied: numpy>=1.16.5 in /Users/masud/opt/anaconda3/lib/python3.8/site-packages (from pandas>=1->pandarallel) (1.20.1)\n",
      "Requirement already satisfied: six>=1.5 in /Users/masud/opt/anaconda3/lib/python3.8/site-packages (from python-dateutil>=2.7.3->pandas>=1->pandarallel) (1.15.0)\n",
      "Note: you may need to restart the kernel to use updated packages.\n"
     ]
    }
   ],
   "source": [
    "pip install pandarallel"
   ]
  },
  {
   "cell_type": "code",
   "execution_count": 89,
   "id": "74a57599",
   "metadata": {},
   "outputs": [
    {
     "name": "stdout",
     "output_type": "stream",
     "text": [
      "INFO: Pandarallel will run on 3 workers.\n",
      "INFO: Pandarallel will use standard multiprocessing data transfer (pipe) to transfer data between the main process and workers.\n",
      "CPU times: user 114 ms, sys: 85.3 ms, total: 199 ms\n",
      "Wall time: 532 ms\n"
     ]
    }
   ],
   "source": [
    "%%time\n",
    "# Compute SGT embeddings\n",
    "sgt_ = SGT(kappa=1, \n",
    "           lengthsensitive=False, \n",
    "           mode='multiprocessing')\n",
    "sgtembedding_df = sgt_.fit_transform(corpus)"
   ]
  },
  {
   "cell_type": "code",
   "execution_count": 90,
   "id": "c2dc1f4c",
   "metadata": {},
   "outputs": [
    {
     "data": {
      "text/html": [
       "<div>\n",
       "<style scoped>\n",
       "    .dataframe tbody tr th:only-of-type {\n",
       "        vertical-align: middle;\n",
       "    }\n",
       "\n",
       "    .dataframe tbody tr th {\n",
       "        vertical-align: top;\n",
       "    }\n",
       "\n",
       "    .dataframe thead th {\n",
       "        text-align: right;\n",
       "    }\n",
       "</style>\n",
       "<table border=\"1\" class=\"dataframe\">\n",
       "  <thead>\n",
       "    <tr style=\"text-align: right;\">\n",
       "      <th></th>\n",
       "      <th>(AA, AA)</th>\n",
       "      <th>(AA, BB)</th>\n",
       "      <th>(AA, CC)</th>\n",
       "      <th>(AA, DD)</th>\n",
       "      <th>(AA, TT)</th>\n",
       "      <th>(AA, YY)</th>\n",
       "      <th>(AA, ZZ)</th>\n",
       "      <th>(BB, AA)</th>\n",
       "      <th>(BB, BB)</th>\n",
       "      <th>(BB, CC)</th>\n",
       "      <th>...</th>\n",
       "      <th>(YY, TT)</th>\n",
       "      <th>(YY, YY)</th>\n",
       "      <th>(YY, ZZ)</th>\n",
       "      <th>(ZZ, AA)</th>\n",
       "      <th>(ZZ, BB)</th>\n",
       "      <th>(ZZ, CC)</th>\n",
       "      <th>(ZZ, DD)</th>\n",
       "      <th>(ZZ, TT)</th>\n",
       "      <th>(ZZ, YY)</th>\n",
       "      <th>(ZZ, ZZ)</th>\n",
       "    </tr>\n",
       "    <tr>\n",
       "      <th>id</th>\n",
       "      <th></th>\n",
       "      <th></th>\n",
       "      <th></th>\n",
       "      <th></th>\n",
       "      <th></th>\n",
       "      <th></th>\n",
       "      <th></th>\n",
       "      <th></th>\n",
       "      <th></th>\n",
       "      <th></th>\n",
       "      <th></th>\n",
       "      <th></th>\n",
       "      <th></th>\n",
       "      <th></th>\n",
       "      <th></th>\n",
       "      <th></th>\n",
       "      <th></th>\n",
       "      <th></th>\n",
       "      <th></th>\n",
       "      <th></th>\n",
       "      <th></th>\n",
       "    </tr>\n",
       "  </thead>\n",
       "  <tbody>\n",
       "    <tr>\n",
       "      <th>1</th>\n",
       "      <td>0.0</td>\n",
       "      <td>0.367879</td>\n",
       "      <td>0.135335</td>\n",
       "      <td>0.049787</td>\n",
       "      <td>0.0</td>\n",
       "      <td>0.0</td>\n",
       "      <td>0.0</td>\n",
       "      <td>0.0</td>\n",
       "      <td>0.0</td>\n",
       "      <td>0.367879</td>\n",
       "      <td>...</td>\n",
       "      <td>0.0</td>\n",
       "      <td>0.0</td>\n",
       "      <td>0.0</td>\n",
       "      <td>0.0</td>\n",
       "      <td>0.0</td>\n",
       "      <td>0.0</td>\n",
       "      <td>0.0</td>\n",
       "      <td>0.000000</td>\n",
       "      <td>0.000000</td>\n",
       "      <td>0.0</td>\n",
       "    </tr>\n",
       "    <tr>\n",
       "      <th>2</th>\n",
       "      <td>0.0</td>\n",
       "      <td>0.000000</td>\n",
       "      <td>0.000000</td>\n",
       "      <td>0.000000</td>\n",
       "      <td>0.0</td>\n",
       "      <td>0.0</td>\n",
       "      <td>0.0</td>\n",
       "      <td>0.0</td>\n",
       "      <td>0.0</td>\n",
       "      <td>0.367879</td>\n",
       "      <td>...</td>\n",
       "      <td>0.0</td>\n",
       "      <td>0.0</td>\n",
       "      <td>0.0</td>\n",
       "      <td>0.0</td>\n",
       "      <td>0.0</td>\n",
       "      <td>0.0</td>\n",
       "      <td>0.0</td>\n",
       "      <td>0.000000</td>\n",
       "      <td>0.000000</td>\n",
       "      <td>0.0</td>\n",
       "    </tr>\n",
       "    <tr>\n",
       "      <th>3</th>\n",
       "      <td>0.0</td>\n",
       "      <td>0.000000</td>\n",
       "      <td>0.367879</td>\n",
       "      <td>0.135335</td>\n",
       "      <td>0.0</td>\n",
       "      <td>0.0</td>\n",
       "      <td>0.0</td>\n",
       "      <td>0.0</td>\n",
       "      <td>0.0</td>\n",
       "      <td>0.000000</td>\n",
       "      <td>...</td>\n",
       "      <td>0.0</td>\n",
       "      <td>0.0</td>\n",
       "      <td>0.0</td>\n",
       "      <td>0.0</td>\n",
       "      <td>0.0</td>\n",
       "      <td>0.0</td>\n",
       "      <td>0.0</td>\n",
       "      <td>0.000000</td>\n",
       "      <td>0.000000</td>\n",
       "      <td>0.0</td>\n",
       "    </tr>\n",
       "    <tr>\n",
       "      <th>4</th>\n",
       "      <td>0.0</td>\n",
       "      <td>0.367879</td>\n",
       "      <td>0.135335</td>\n",
       "      <td>0.049787</td>\n",
       "      <td>0.0</td>\n",
       "      <td>0.0</td>\n",
       "      <td>0.0</td>\n",
       "      <td>0.0</td>\n",
       "      <td>0.0</td>\n",
       "      <td>0.367879</td>\n",
       "      <td>...</td>\n",
       "      <td>0.0</td>\n",
       "      <td>0.0</td>\n",
       "      <td>0.0</td>\n",
       "      <td>0.0</td>\n",
       "      <td>0.0</td>\n",
       "      <td>0.0</td>\n",
       "      <td>0.0</td>\n",
       "      <td>0.000000</td>\n",
       "      <td>0.000000</td>\n",
       "      <td>0.0</td>\n",
       "    </tr>\n",
       "    <tr>\n",
       "      <th>5</th>\n",
       "      <td>0.0</td>\n",
       "      <td>0.000000</td>\n",
       "      <td>0.000000</td>\n",
       "      <td>0.000000</td>\n",
       "      <td>0.0</td>\n",
       "      <td>0.0</td>\n",
       "      <td>0.0</td>\n",
       "      <td>0.0</td>\n",
       "      <td>0.0</td>\n",
       "      <td>0.000000</td>\n",
       "      <td>...</td>\n",
       "      <td>0.0</td>\n",
       "      <td>0.0</td>\n",
       "      <td>0.0</td>\n",
       "      <td>0.0</td>\n",
       "      <td>0.0</td>\n",
       "      <td>0.0</td>\n",
       "      <td>0.0</td>\n",
       "      <td>0.367879</td>\n",
       "      <td>0.135335</td>\n",
       "      <td>0.0</td>\n",
       "    </tr>\n",
       "  </tbody>\n",
       "</table>\n",
       "<p>5 rows × 49 columns</p>\n",
       "</div>"
      ],
      "text/plain": [
       "    (AA, AA)  (AA, BB)  (AA, CC)  (AA, DD)  (AA, TT)  (AA, YY)  (AA, ZZ)  \\\n",
       "id                                                                         \n",
       "1        0.0  0.367879  0.135335  0.049787       0.0       0.0       0.0   \n",
       "2        0.0  0.000000  0.000000  0.000000       0.0       0.0       0.0   \n",
       "3        0.0  0.000000  0.367879  0.135335       0.0       0.0       0.0   \n",
       "4        0.0  0.367879  0.135335  0.049787       0.0       0.0       0.0   \n",
       "5        0.0  0.000000  0.000000  0.000000       0.0       0.0       0.0   \n",
       "\n",
       "    (BB, AA)  (BB, BB)  (BB, CC)  ...  (YY, TT)  (YY, YY)  (YY, ZZ)  (ZZ, AA)  \\\n",
       "id                                ...                                           \n",
       "1        0.0       0.0  0.367879  ...       0.0       0.0       0.0       0.0   \n",
       "2        0.0       0.0  0.367879  ...       0.0       0.0       0.0       0.0   \n",
       "3        0.0       0.0  0.000000  ...       0.0       0.0       0.0       0.0   \n",
       "4        0.0       0.0  0.367879  ...       0.0       0.0       0.0       0.0   \n",
       "5        0.0       0.0  0.000000  ...       0.0       0.0       0.0       0.0   \n",
       "\n",
       "    (ZZ, BB)  (ZZ, CC)  (ZZ, DD)  (ZZ, TT)  (ZZ, YY)  (ZZ, ZZ)  \n",
       "id                                                              \n",
       "1        0.0       0.0       0.0  0.000000  0.000000       0.0  \n",
       "2        0.0       0.0       0.0  0.000000  0.000000       0.0  \n",
       "3        0.0       0.0       0.0  0.000000  0.000000       0.0  \n",
       "4        0.0       0.0       0.0  0.000000  0.000000       0.0  \n",
       "5        0.0       0.0       0.0  0.367879  0.135335       0.0  \n",
       "\n",
       "[5 rows x 49 columns]"
      ]
     },
     "execution_count": 90,
     "metadata": {},
     "output_type": "execute_result"
    }
   ],
   "source": [
    "# Set the id column as the dataframe index\n",
    "sgtembedding_df = sgtembedding_df.set_index('id')\n",
    "sgtembedding_df"
   ]
  },
  {
   "cell_type": "code",
   "execution_count": 91,
   "id": "7a2d0164",
   "metadata": {},
   "outputs": [
    {
     "name": "stdout",
     "output_type": "stream",
     "text": [
      "0.8871453193151423\n"
     ]
    },
    {
     "data": {
      "text/html": [
       "<div>\n",
       "<style scoped>\n",
       "    .dataframe tbody tr th:only-of-type {\n",
       "        vertical-align: middle;\n",
       "    }\n",
       "\n",
       "    .dataframe tbody tr th {\n",
       "        vertical-align: top;\n",
       "    }\n",
       "\n",
       "    .dataframe thead th {\n",
       "        text-align: right;\n",
       "    }\n",
       "</style>\n",
       "<table border=\"1\" class=\"dataframe\">\n",
       "  <thead>\n",
       "    <tr style=\"text-align: right;\">\n",
       "      <th></th>\n",
       "      <th>x1</th>\n",
       "      <th>x2</th>\n",
       "    </tr>\n",
       "  </thead>\n",
       "  <tbody>\n",
       "    <tr>\n",
       "      <th>0</th>\n",
       "      <td>-0.264502</td>\n",
       "      <td>-0.105145</td>\n",
       "    </tr>\n",
       "    <tr>\n",
       "      <th>1</th>\n",
       "      <td>-0.104458</td>\n",
       "      <td>-0.052635</td>\n",
       "    </tr>\n",
       "    <tr>\n",
       "      <th>2</th>\n",
       "      <td>0.043604</td>\n",
       "      <td>0.395802</td>\n",
       "    </tr>\n",
       "    <tr>\n",
       "      <th>3</th>\n",
       "      <td>-0.264502</td>\n",
       "      <td>-0.105145</td>\n",
       "    </tr>\n",
       "    <tr>\n",
       "      <th>4</th>\n",
       "      <td>0.589858</td>\n",
       "      <td>-0.132877</td>\n",
       "    </tr>\n",
       "  </tbody>\n",
       "</table>\n",
       "</div>"
      ],
      "text/plain": [
       "         x1        x2\n",
       "0 -0.264502 -0.105145\n",
       "1 -0.104458 -0.052635\n",
       "2  0.043604  0.395802\n",
       "3 -0.264502 -0.105145\n",
       "4  0.589858 -0.132877"
      ]
     },
     "execution_count": 91,
     "metadata": {},
     "output_type": "execute_result"
    }
   ],
   "source": [
    "pca = PCA(n_components=2)\n",
    "pca.fit(sgtembedding_df)\n",
    "\n",
    "X=pca.transform(sgtembedding_df)\n",
    "\n",
    "print(np.sum(pca.explained_variance_ratio_))\n",
    "df = pd.DataFrame(data=X, columns=['x1', 'x2'])\n",
    "df.head()"
   ]
  },
  {
   "cell_type": "code",
   "execution_count": 92,
   "id": "a84d31dc",
   "metadata": {},
   "outputs": [
    {
     "data": {
      "text/plain": [
       "<matplotlib.collections.PathCollection at 0x7fd1349fa1f0>"
      ]
     },
     "execution_count": 92,
     "metadata": {},
     "output_type": "execute_result"
    },
    {
     "data": {
      "image/png": "[encoded data removed]",
      "text/plain": [
       "<Figure size 360x360 with 1 Axes>"
      ]
     },
     "metadata": {
      "needs_background": "light"
     },
     "output_type": "display_data"
    }
   ],
   "source": [
    "kmeans = KMeans(n_clusters=3, max_iter =300)\n",
    "kmeans.fit(df)\n",
    "\n",
    "labels = kmeans.predict(df)\n",
    "centroids = kmeans.cluster_centers_\n",
    "\n",
    "fig = plt.figure(figsize=(5, 5))\n",
    "# colmap = {1: 'r', 2: 'g'}\n",
    "colmap = {1: 'r', 2: 'g', 3: 'b'}\n",
    "colors = list(map(lambda x: colmap[x+1], labels))\n",
    "plt.scatter(df['x1'], df['x2'], color=colors, alpha=0.5, edgecolor=colors)"
   ]
  },
  {
   "cell_type": "code",
   "execution_count": 93,
   "id": "0b76ffec",
   "metadata": {},
   "outputs": [
    {
     "data": {
      "text/plain": [
       "array([[ 0.58985777, -0.13287708],\n",
       "       [-0.21115381, -0.08764169],\n",
       "       [ 0.04360364,  0.39580216]])"
      ]
     },
     "execution_count": 93,
     "metadata": {},
     "output_type": "execute_result"
    }
   ],
   "source": [
    "centroids"
   ]
  },
  {
   "cell_type": "code",
   "execution_count": 94,
   "id": "f5f93416",
   "metadata": {},
   "outputs": [
    {
     "data": {
      "text/plain": [
       "array([[ 0.58985777, -0.13287708],\n",
       "       [-0.21115381, -0.08764169],\n",
       "       [ 0.04360364,  0.39580216]])"
      ]
     },
     "execution_count": 94,
     "metadata": {},
     "output_type": "execute_result"
    }
   ],
   "source": [
    "kmeans.cluster_centers_"
   ]
  },
  {
   "cell_type": "code",
   "execution_count": 95,
   "id": "e2ee20c7",
   "metadata": {},
   "outputs": [
    {
     "data": {
      "text/plain": [
       "(5, 2)"
      ]
     },
     "execution_count": 95,
     "metadata": {},
     "output_type": "execute_result"
    }
   ],
   "source": [
    "df.shape"
   ]
  },
  {
   "cell_type": "code",
   "execution_count": 96,
   "id": "68503f58",
   "metadata": {},
   "outputs": [
    {
     "data": {
      "text/plain": [
       "array([1, 1, 2, 1, 0], dtype=int32)"
      ]
     },
     "execution_count": 96,
     "metadata": {},
     "output_type": "execute_result"
    }
   ],
   "source": [
    "labels"
   ]
  },
  {
   "cell_type": "code",
   "execution_count": null,
   "id": "e6a4c3ec",
   "metadata": {},
   "outputs": [],
   "source": []
  }
 ],
 "metadata": {
  "kernelspec": {
   "display_name": "Python 3",
   "language": "python",
   "name": "python3"
  },
  "language_info": {
   "codemirror_mode": {
    "name": "ipython",
    "version": 3
   },
   "file_extension": ".py",
   "mimetype": "text/x-python",
   "name": "python",
   "nbconvert_exporter": "python",
   "pygments_lexer": "ipython3",
   "version": "3.8.8"
  }
 },
 "nbformat": 4,
 "nbformat_minor": 5
}
